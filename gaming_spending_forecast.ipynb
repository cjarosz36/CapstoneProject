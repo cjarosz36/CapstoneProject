{
 "cells": [
  {
   "cell_type": "code",
   "execution_count": 1,
   "metadata": {},
   "outputs": [],
   "source": [
    "import zipfile\n",
    "import os\n",
    "import pandas as pd\n",
    "import ast\n",
    "import matplotlib.pyplot as plt\n",
    "import seaborn as sns\n",
    "from sklearn.model_selection import train_test_split\n",
    "from sklearn.ensemble import RandomForestRegressor, GradientBoostingRegressor\n",
    "from sklearn.metrics import mean_absolute_error, mean_squared_error "
   ]
  },
  {
   "cell_type": "code",
   "execution_count": 2,
   "metadata": {},
   "outputs": [],
   "source": [
    "# Function to extract ZIP files\n",
    "def extract_zip(zip_path, extract_dir):\n",
    "    os.makedirs(extract_dir, exist_ok=True)\n",
    "    with zipfile.ZipFile(zip_path, 'r') as zip_ref:\n",
    "        zip_ref.extractall(extract_dir)\n",
    "    extracted_files = os.listdir(extract_dir)\n",
    "    print(f\"Extracted items from {zip_path}:\", extracted_files)\n",
    "    return extract_dir"
   ]
  },
  {
   "cell_type": "code",
   "execution_count": 3,
   "metadata": {},
   "outputs": [],
   "source": [
    "# Function to find dataset folder\n",
    "def find_dataset_folder(extract_dir):\n",
    "    extracted_files = os.listdir(extract_dir)\n",
    "    if len(extracted_files) == 1 and os.path.isdir(os.path.join(extract_dir, extracted_files[0])):\n",
    "        return os.path.join(extract_dir, extracted_files[0])\n",
    "    return extract_dir"
   ]
  },
  {
   "cell_type": "code",
   "execution_count": 4,
   "metadata": {},
   "outputs": [
    {
     "name": "stdout",
     "output_type": "stream",
     "text": [
      "Extracted items from xbox.zip: ['xbox']\n",
      "Using folder: xbox_dataset\\xbox\n",
      "Files in the Xbox folder: ['achievements.csv', 'games.csv', 'history.csv', 'players.csv', 'prices.csv', 'purchased_games.csv']\n"
     ]
    }
   ],
   "source": [
    "# Extract Xbox dataset\n",
    "xbox_zip_path = \"xbox.zip\"\n",
    "xbox_extract_dir = \"xbox_dataset\"\n",
    "xbox_folder = find_dataset_folder(extract_zip(xbox_zip_path, xbox_extract_dir))\n",
    "print(\"Using folder:\", xbox_folder)\n",
    "print(\"Files in the Xbox folder:\", os.listdir(xbox_folder))\n"
   ]
  },
  {
   "cell_type": "code",
   "execution_count": 5,
   "metadata": {},
   "outputs": [
    {
     "name": "stdout",
     "output_type": "stream",
     "text": [
      "\n",
      "Preview of purchased_games.csv:\n"
     ]
    },
    {
     "data": {
      "text/html": [
       "<div>\n",
       "<style scoped>\n",
       "    .dataframe tbody tr th:only-of-type {\n",
       "        vertical-align: middle;\n",
       "    }\n",
       "\n",
       "    .dataframe tbody tr th {\n",
       "        vertical-align: top;\n",
       "    }\n",
       "\n",
       "    .dataframe thead th {\n",
       "        text-align: right;\n",
       "    }\n",
       "</style>\n",
       "<table border=\"1\" class=\"dataframe\">\n",
       "  <thead>\n",
       "    <tr style=\"text-align: right;\">\n",
       "      <th></th>\n",
       "      <th>playerid</th>\n",
       "      <th>library</th>\n",
       "    </tr>\n",
       "  </thead>\n",
       "  <tbody>\n",
       "    <tr>\n",
       "      <th>0</th>\n",
       "      <td>848738</td>\n",
       "      <td>[14711, 2128, 10783, 9118, 7235, 9637, 717236,...</td>\n",
       "    </tr>\n",
       "    <tr>\n",
       "      <th>1</th>\n",
       "      <td>848736</td>\n",
       "      <td>[707376, 747223, 550303, 620354, 734202, 74678...</td>\n",
       "    </tr>\n",
       "    <tr>\n",
       "      <th>2</th>\n",
       "      <td>1470783</td>\n",
       "      <td>[638932, 32551, 748147, 468697, 446682, 615753...</td>\n",
       "    </tr>\n",
       "    <tr>\n",
       "      <th>3</th>\n",
       "      <td>848735</td>\n",
       "      <td>[736287, 555825, 717258, 422060, 12645, 550263...</td>\n",
       "    </tr>\n",
       "    <tr>\n",
       "      <th>4</th>\n",
       "      <td>848739</td>\n",
       "      <td>[698325, 443814, 745210, 747223, 734202, 71154...</td>\n",
       "    </tr>\n",
       "  </tbody>\n",
       "</table>\n",
       "</div>"
      ],
      "text/plain": [
       "   playerid                                            library\n",
       "0    848738  [14711, 2128, 10783, 9118, 7235, 9637, 717236,...\n",
       "1    848736  [707376, 747223, 550303, 620354, 734202, 74678...\n",
       "2   1470783  [638932, 32551, 748147, 468697, 446682, 615753...\n",
       "3    848735  [736287, 555825, 717258, 422060, 12645, 550263...\n",
       "4    848739  [698325, 443814, 745210, 747223, 734202, 71154..."
      ]
     },
     "metadata": {},
     "output_type": "display_data"
    },
    {
     "name": "stdout",
     "output_type": "stream",
     "text": [
      "\n",
      "Preview of prices.csv:\n"
     ]
    },
    {
     "data": {
      "text/html": [
       "<div>\n",
       "<style scoped>\n",
       "    .dataframe tbody tr th:only-of-type {\n",
       "        vertical-align: middle;\n",
       "    }\n",
       "\n",
       "    .dataframe tbody tr th {\n",
       "        vertical-align: top;\n",
       "    }\n",
       "\n",
       "    .dataframe thead th {\n",
       "        text-align: right;\n",
       "    }\n",
       "</style>\n",
       "<table border=\"1\" class=\"dataframe\">\n",
       "  <thead>\n",
       "    <tr style=\"text-align: right;\">\n",
       "      <th></th>\n",
       "      <th>gameid</th>\n",
       "      <th>usd</th>\n",
       "      <th>eur</th>\n",
       "      <th>gbp</th>\n",
       "      <th>jpy</th>\n",
       "      <th>rub</th>\n",
       "      <th>date_acquired</th>\n",
       "    </tr>\n",
       "  </thead>\n",
       "  <tbody>\n",
       "    <tr>\n",
       "      <th>0</th>\n",
       "      <td>1253</td>\n",
       "      <td>19.99</td>\n",
       "      <td>19.99</td>\n",
       "      <td>15.99</td>\n",
       "      <td>NaN</td>\n",
       "      <td>1772.0</td>\n",
       "      <td>2025-02-22</td>\n",
       "    </tr>\n",
       "    <tr>\n",
       "      <th>1</th>\n",
       "      <td>727440</td>\n",
       "      <td>17.99</td>\n",
       "      <td>17.99</td>\n",
       "      <td>14.99</td>\n",
       "      <td>NaN</td>\n",
       "      <td>1595.0</td>\n",
       "      <td>2025-02-22</td>\n",
       "    </tr>\n",
       "    <tr>\n",
       "      <th>2</th>\n",
       "      <td>747995</td>\n",
       "      <td>4.79</td>\n",
       "      <td>4.79</td>\n",
       "      <td>3.99</td>\n",
       "      <td>NaN</td>\n",
       "      <td>425.0</td>\n",
       "      <td>2025-02-22</td>\n",
       "    </tr>\n",
       "    <tr>\n",
       "      <th>3</th>\n",
       "      <td>727135</td>\n",
       "      <td>17.99</td>\n",
       "      <td>17.99</td>\n",
       "      <td>14.99</td>\n",
       "      <td>NaN</td>\n",
       "      <td>1595.0</td>\n",
       "      <td>2025-02-22</td>\n",
       "    </tr>\n",
       "    <tr>\n",
       "      <th>4</th>\n",
       "      <td>748541</td>\n",
       "      <td>19.99</td>\n",
       "      <td>19.99</td>\n",
       "      <td>16.74</td>\n",
       "      <td>NaN</td>\n",
       "      <td>1772.0</td>\n",
       "      <td>2025-02-22</td>\n",
       "    </tr>\n",
       "  </tbody>\n",
       "</table>\n",
       "</div>"
      ],
      "text/plain": [
       "   gameid    usd    eur    gbp  jpy     rub date_acquired\n",
       "0    1253  19.99  19.99  15.99  NaN  1772.0    2025-02-22\n",
       "1  727440  17.99  17.99  14.99  NaN  1595.0    2025-02-22\n",
       "2  747995   4.79   4.79   3.99  NaN   425.0    2025-02-22\n",
       "3  727135  17.99  17.99  14.99  NaN  1595.0    2025-02-22\n",
       "4  748541  19.99  19.99  16.74  NaN  1772.0    2025-02-22"
      ]
     },
     "metadata": {},
     "output_type": "display_data"
    }
   ],
   "source": [
    "# Load CSV files\n",
    "def load_csv(file_name, folder):\n",
    "    file_path = os.path.join(folder, file_name)\n",
    "    if os.path.exists(file_path):\n",
    "        return pd.read_csv(file_path)\n",
    "    else:\n",
    "        print(f\"Warning: {file_name} not found in {folder}\")\n",
    "        return None\n",
    "\n",
    "purchased_games_df = load_csv(\"purchased_games.csv\", xbox_folder)\n",
    "prices_df = load_csv(\"prices.csv\", xbox_folder)\n",
    "\n",
    "# Data Overview\n",
    "if purchased_games_df is not None:\n",
    "    print(\"\\nPreview of purchased_games.csv:\")\n",
    "    display(purchased_games_df.head())\n",
    "if prices_df is not None:\n",
    "    print(\"\\nPreview of prices.csv:\")\n",
    "    display(prices_df.head())"
   ]
  },
  {
   "cell_type": "code",
   "execution_count": 6,
   "metadata": {},
   "outputs": [
    {
     "name": "stdout",
     "output_type": "stream",
     "text": [
      "\n",
      "Merged Data Preview:\n"
     ]
    },
    {
     "data": {
      "text/html": [
       "<div>\n",
       "<style scoped>\n",
       "    .dataframe tbody tr th:only-of-type {\n",
       "        vertical-align: middle;\n",
       "    }\n",
       "\n",
       "    .dataframe tbody tr th {\n",
       "        vertical-align: top;\n",
       "    }\n",
       "\n",
       "    .dataframe thead th {\n",
       "        text-align: right;\n",
       "    }\n",
       "</style>\n",
       "<table border=\"1\" class=\"dataframe\">\n",
       "  <thead>\n",
       "    <tr style=\"text-align: right;\">\n",
       "      <th></th>\n",
       "      <th>playerid</th>\n",
       "      <th>gameid</th>\n",
       "      <th>usd</th>\n",
       "      <th>eur</th>\n",
       "      <th>gbp</th>\n",
       "      <th>jpy</th>\n",
       "      <th>rub</th>\n",
       "      <th>date_acquired</th>\n",
       "    </tr>\n",
       "  </thead>\n",
       "  <tbody>\n",
       "    <tr>\n",
       "      <th>0</th>\n",
       "      <td>848738</td>\n",
       "      <td>14711</td>\n",
       "      <td>NaN</td>\n",
       "      <td>NaN</td>\n",
       "      <td>NaN</td>\n",
       "      <td>NaN</td>\n",
       "      <td>NaN</td>\n",
       "      <td>2025-02-22</td>\n",
       "    </tr>\n",
       "    <tr>\n",
       "      <th>1</th>\n",
       "      <td>848738</td>\n",
       "      <td>14711</td>\n",
       "      <td>NaN</td>\n",
       "      <td>NaN</td>\n",
       "      <td>NaN</td>\n",
       "      <td>NaN</td>\n",
       "      <td>NaN</td>\n",
       "      <td>2025-02-24</td>\n",
       "    </tr>\n",
       "    <tr>\n",
       "      <th>2</th>\n",
       "      <td>848738</td>\n",
       "      <td>2128</td>\n",
       "      <td>NaN</td>\n",
       "      <td>NaN</td>\n",
       "      <td>NaN</td>\n",
       "      <td>NaN</td>\n",
       "      <td>NaN</td>\n",
       "      <td>2025-02-22</td>\n",
       "    </tr>\n",
       "    <tr>\n",
       "      <th>3</th>\n",
       "      <td>848738</td>\n",
       "      <td>2128</td>\n",
       "      <td>NaN</td>\n",
       "      <td>NaN</td>\n",
       "      <td>NaN</td>\n",
       "      <td>NaN</td>\n",
       "      <td>NaN</td>\n",
       "      <td>2025-02-24</td>\n",
       "    </tr>\n",
       "    <tr>\n",
       "      <th>4</th>\n",
       "      <td>848738</td>\n",
       "      <td>10783</td>\n",
       "      <td>NaN</td>\n",
       "      <td>NaN</td>\n",
       "      <td>NaN</td>\n",
       "      <td>NaN</td>\n",
       "      <td>NaN</td>\n",
       "      <td>2025-02-22</td>\n",
       "    </tr>\n",
       "  </tbody>\n",
       "</table>\n",
       "</div>"
      ],
      "text/plain": [
       "   playerid  gameid  usd  eur  gbp  jpy  rub date_acquired\n",
       "0    848738   14711  NaN  NaN  NaN  NaN  NaN    2025-02-22\n",
       "1    848738   14711  NaN  NaN  NaN  NaN  NaN    2025-02-24\n",
       "2    848738    2128  NaN  NaN  NaN  NaN  NaN    2025-02-22\n",
       "3    848738    2128  NaN  NaN  NaN  NaN  NaN    2025-02-24\n",
       "4    848738   10783  NaN  NaN  NaN  NaN  NaN    2025-02-22"
      ]
     },
     "metadata": {},
     "output_type": "display_data"
    }
   ],
   "source": [
    "# Process data\n",
    "if purchased_games_df is not None and prices_df is not None:\n",
    "    purchased_games_df[\"library\"] = purchased_games_df[\"library\"].fillna(\"[]\")\n",
    "    purchased_games_df[\"library\"] = purchased_games_df[\"library\"].apply(lambda x: ast.literal_eval(x) if isinstance(x, str) else [])\n",
    "    purchased_games_exploded = purchased_games_df.explode(\"library\")\n",
    "    purchased_games_exploded.rename(columns={\"library\": \"gameid\"}, inplace=True)\n",
    "    purchased_games_exploded[\"gameid\"] = pd.to_numeric(purchased_games_exploded[\"gameid\"], errors='coerce')\n",
    "    prices_df[\"gameid\"] = pd.to_numeric(prices_df[\"gameid\"], errors='coerce')\n",
    "    merged_df = purchased_games_exploded.merge(prices_df, on=\"gameid\", how=\"left\")\n",
    "\n",
    "    print(\"\\nMerged Data Preview:\")\n",
    "    display(merged_df.head())"
   ]
  },
  {
   "cell_type": "code",
   "execution_count": 7,
   "metadata": {},
   "outputs": [
    {
     "ename": "IndentationError",
     "evalue": "unexpected indent (1573633977.py, line 2)",
     "output_type": "error",
     "traceback": [
      "\u001b[1;36m  Cell \u001b[1;32mIn[7], line 2\u001b[1;36m\u001b[0m\n\u001b[1;33m    user_spending = merged_df.groupby(\"playerid\")[\"usd\"].sum().reset_index()\u001b[0m\n\u001b[1;37m    ^\u001b[0m\n\u001b[1;31mIndentationError\u001b[0m\u001b[1;31m:\u001b[0m unexpected indent\n"
     ]
    }
   ],
   "source": [
    " # Calculate user spending\n",
    "    user_spending = merged_df.groupby(\"playerid\")[\"usd\"].sum().reset_index()\n",
    "    user_spending.rename(columns={\"usd\": \"total_spent_usd\"}, inplace=True)\n",
    "    display(user_spending.head())"
   ]
  },
  {
   "cell_type": "code",
   "execution_count": null,
   "metadata": {},
   "outputs": [],
   "source": [
    " # Export data for Tableau\n",
    "    user_spending.to_csv(\"user_spending.csv\", index=False)\n",
    "    print(\"Exported user_spending.csv for Tableau.\")\n",
    "\n",
    "    # Exploratory Data Analysis (EDA)\n",
    "    print(\"\\nMissing Values:\")\n",
    "    display(merged_df.isnull().sum())\n",
    "    print(\"\\nSummary Statistics:\")\n",
    "    display(merged_df.describe())\n",
    "\n",
    "    # Plot spending distribution\n",
    "    plt.figure(figsize=(10, 5))\n",
    "    sns.histplot(user_spending[\"total_spent_usd\"], bins=50, kde=True)\n",
    "    plt.title(\"Distribution of Total Spending per User\")\n",
    "    plt.xlabel(\"Total Spent (USD)\")\n",
    "    plt.ylabel(\"Number of Users\")\n",
    "    plt.show()\n",
    "\n",
    "    plt.figure(figsize=(8, 5))\n",
    "    sns.boxplot(x=user_spending[\"total_spent_usd\"])\n",
    "    plt.title(\"Boxplot of Total Spending per User\")\n",
    "    plt.xlabel(\"Total Spent (USD)\")\n",
    "    plt.show()\n",
    "\n",
    "    top_spenders = user_spending.sort_values(by=\"total_spent_usd\", ascending=False).head(10)\n",
    "    display(top_spenders)"
   ]
  },
  {
   "cell_type": "code",
   "execution_count": null,
   "metadata": {},
   "outputs": [],
   "source": [
    " # Feature Engineering\n",
    "    merged_df.fillna(0, inplace=True)\n",
    "    features = merged_df.groupby(\"playerid\").agg({\"usd\": \"sum\", \"gameid\": \"count\"}).reset_index()\n",
    "    features.rename(columns={\"usd\": \"total_spent\", \"gameid\": \"games_owned\"}, inplace=True)\n",
    "\n",
    "    # Prepare training data\n",
    "    X = features.drop(columns=[\"playerid\", \"total_spent\"])\n",
    "    y = features[\"total_spent\"]\n",
    "\n",
    "    X_train, X_test, y_train, y_test = train_test_split(X, y, test_size=0.2, random_state=42)"
   ]
  },
  {
   "cell_type": "code",
   "execution_count": null,
   "metadata": {},
   "outputs": [],
   "source": [
    "    # Establish Baseline Metric\n",
    "    baseline_pred = y_train.mean()\n",
    "    baseline_mae = mean_absolute_error(y_test, [baseline_pred] * len(y_test))\n",
    "    print(f\"Baseline MAE: {baseline_mae}\")"
   ]
  },
  {
   "cell_type": "code",
   "execution_count": null,
   "metadata": {},
   "outputs": [],
   "source": [
    "   # Train Models\n",
    "    models = {\n",
    "        \"Random Forest\": RandomForestRegressor(n_estimators=100, random_state=42),\n",
    "        \"Gradient Boosting\": GradientBoostingRegressor(n_estimators=100, random_state=42)\n",
    "    }\n",
    "\n",
    "    for name, model in models.items():\n",
    "        model.fit(X_train, y_train)\n",
    "        y_pred = model.predict(X_test)\n",
    "        print(f\"\\n{name} Performance:\")\n",
    "        print(\"Mean Absolute Error:\", mean_absolute_error(y_test, y_pred))\n",
    "        print(\"Mean Squared Error:\", mean_squared_error(y_test, y_pred))\n",
    "        print(\"Root Mean Squared Error:\", mean_squared_error(y_test, y_pred, squared=False))\n"
   ]
  },
  {
   "cell_type": "code",
   "execution_count": null,
   "metadata": {},
   "outputs": [],
   "source": [
    " # Feature Importance\n",
    "    feature_importances = pd.Series(models[\"Random Forest\"].feature_importances_, index=X.columns).sort_values(ascending=False)\n",
    "    plt.figure(figsize=(8, 5))\n",
    "    sns.barplot(x=feature_importances, y=feature_importances.index)\n",
    "    plt.title(\"Feature Importance in Spending Prediction\")\n",
    "    plt.xlabel(\"Importance\")\n",
    "    plt.ylabel(\"Feature\")\n",
    "    plt.show()"
   ]
  }
 ],
 "metadata": {
  "kernelspec": {
   "display_name": "Python 3 (ipykernel)",
   "language": "python",
   "name": "python3"
  },
  "language_info": {
   "codemirror_mode": {
    "name": "ipython",
    "version": 3
   },
   "file_extension": ".py",
   "mimetype": "text/x-python",
   "name": "python",
   "nbconvert_exporter": "python",
   "pygments_lexer": "ipython3",
   "version": "3.11.7"
  }
 },
 "nbformat": 4,
 "nbformat_minor": 4
}
